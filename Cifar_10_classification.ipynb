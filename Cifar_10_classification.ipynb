{
  "metadata": {
    "kernelspec": {
      "language": "python",
      "display_name": "Python 3",
      "name": "python3"
    },
    "language_info": {
      "name": "python",
      "version": "3.10.12",
      "mimetype": "text/x-python",
      "codemirror_mode": {
        "name": "ipython",
        "version": 3
      },
      "pygments_lexer": "ipython3",
      "nbconvert_exporter": "python",
      "file_extension": ".py"
    },
    "kaggle": {
      "accelerator": "nvidiaTeslaT4",
      "dataSources": [],
      "dockerImageVersionId": 30887,
      "isInternetEnabled": true,
      "language": "python",
      "sourceType": "notebook",
      "isGpuEnabled": true
    },
    "colab": {
      "name": "Cifar-10 classification",
      "provenance": [],
      "include_colab_link": true
    }
  },
  "nbformat_minor": 0,
  "nbformat": 4,
  "cells": [
    {
      "cell_type": "markdown",
      "metadata": {
        "id": "view-in-github",
        "colab_type": "text"
      },
      "source": [
        "<a href=\"https://colab.research.google.com/github/elfavci/Cifar_10_Classification/blob/main/Cifar_10_classification.ipynb\" target=\"_parent\"><img src=\"https://colab.research.google.com/assets/colab-badge.svg\" alt=\"Open In Colab\"/></a>"
      ]
    },
    {
      "cell_type": "code",
      "source": [
        "# This Python 3 environment comes with many helpful analytics libraries installed\n",
        "# It is defined by the kaggle/python Docker image: https://github.com/kaggle/docker-python\n",
        "# For example, here's several helpful packages to load\n",
        "\n",
        "import numpy as np # linear algebra\n",
        "import pandas as pd # data processing, CSV file I/O (e.g. pd.read_csv)\n",
        "\n",
        "# Input data files are available in the read-only \"../input/\" directory\n",
        "# For example, running this (by clicking run or pressing Shift+Enter) will list all files under the input directory\n",
        "\n",
        "import os\n",
        "for dirname, _, filenames in os.walk('/kaggle/input'):\n",
        "    for filename in filenames:\n",
        "        print(os.path.join(dirname, filename))\n",
        "\n",
        "# You can write up to 20GB to the current directory (/kaggle/working/) that gets preserved as output when you create a version using \"Save & Run All\"\n",
        "# You can also write temporary files to /kaggle/temp/, but they won't be saved outside of the current session"
      ],
      "metadata": {
        "_uuid": "8f2839f25d086af736a60e9eeb907d3b93b6e0e5",
        "_cell_guid": "b1076dfc-b9ad-4769-8c92-a6c4dae69d19",
        "trusted": true,
        "execution": {
          "iopub.status.busy": "2025-02-20T20:49:48.423195Z",
          "iopub.execute_input": "2025-02-20T20:49:48.423486Z",
          "iopub.status.idle": "2025-02-20T20:49:50.6305Z",
          "shell.execute_reply.started": "2025-02-20T20:49:48.423444Z",
          "shell.execute_reply": "2025-02-20T20:49:50.629854Z"
        },
        "id": "ZnkZeRpAngIO"
      },
      "outputs": [],
      "execution_count": null
    },
    {
      "cell_type": "markdown",
      "source": [
        "# **Cifar-10 Image Classification**"
      ],
      "metadata": {
        "id": "Z1wxYJGTngIR"
      }
    },
    {
      "cell_type": "code",
      "source": [
        "import numpy as np\n",
        "import pandas as pd\n",
        "import cv2"
      ],
      "metadata": {
        "trusted": true,
        "execution": {
          "iopub.status.busy": "2025-02-20T22:26:10.351357Z",
          "iopub.execute_input": "2025-02-20T22:26:10.351644Z",
          "iopub.status.idle": "2025-02-20T22:26:11.129336Z",
          "shell.execute_reply.started": "2025-02-20T22:26:10.351622Z",
          "shell.execute_reply": "2025-02-20T22:26:11.128283Z"
        },
        "id": "dnoghoInngIS"
      },
      "outputs": [],
      "execution_count": null
    },
    {
      "cell_type": "code",
      "source": [
        "from sklearn.datasets import fetch_openml\n",
        "from skimage.filters import threshold_otsu\n",
        "from sklearn.model_selection import train_test_split\n",
        "\n",
        "from sklearn.ensemble import RandomForestClassifier\n",
        "\n",
        "from sklearn.metrics import accuracy_score\n",
        "from sklearn.metrics import f1_score\n",
        "\n",
        "from sklearn.metrics import confusion_matrix,ConfusionMatrixDisplay\n",
        "import matplotlib.pyplot as plt\n",
        "%matplotlib inline"
      ],
      "metadata": {
        "trusted": true,
        "execution": {
          "iopub.status.busy": "2025-02-20T22:26:13.102148Z",
          "iopub.execute_input": "2025-02-20T22:26:13.102628Z",
          "iopub.status.idle": "2025-02-20T22:26:14.181479Z",
          "shell.execute_reply.started": "2025-02-20T22:26:13.102599Z",
          "shell.execute_reply": "2025-02-20T22:26:14.180824Z"
        },
        "id": "jFOL2TDingIT"
      },
      "outputs": [],
      "execution_count": null
    },
    {
      "cell_type": "code",
      "source": [
        "import tensorflow.keras as keras\n",
        "from sklearn.model_selection import train_test_split  #veri kümesini böler"
      ],
      "metadata": {
        "trusted": true,
        "execution": {
          "iopub.status.busy": "2025-02-20T22:26:15.824164Z",
          "iopub.execute_input": "2025-02-20T22:26:15.8246Z",
          "iopub.status.idle": "2025-02-20T22:26:28.900035Z",
          "shell.execute_reply.started": "2025-02-20T22:26:15.824576Z",
          "shell.execute_reply": "2025-02-20T22:26:28.899321Z"
        },
        "id": "lugu0pFBngIT"
      },
      "outputs": [],
      "execution_count": null
    },
    {
      "cell_type": "markdown",
      "source": [
        "Cifar-10 Veri kumesini ekleme"
      ],
      "metadata": {
        "id": "0vvD6y6MngIU"
      }
    },
    {
      "cell_type": "code",
      "source": [
        "from tensorflow.keras.datasets import cifar10"
      ],
      "metadata": {
        "trusted": true,
        "execution": {
          "iopub.status.busy": "2025-02-20T22:26:28.919654Z",
          "iopub.execute_input": "2025-02-20T22:26:28.919934Z",
          "iopub.status.idle": "2025-02-20T22:26:28.939534Z",
          "shell.execute_reply.started": "2025-02-20T22:26:28.919912Z",
          "shell.execute_reply": "2025-02-20T22:26:28.938623Z"
        },
        "id": "2fh488BBngIV"
      },
      "outputs": [],
      "execution_count": null
    },
    {
      "cell_type": "code",
      "source": [
        "(x_train, y_train), (x_test, y_test) = cifar10.load_data()"
      ],
      "metadata": {
        "trusted": true,
        "execution": {
          "iopub.status.busy": "2025-02-20T22:26:33.379027Z",
          "iopub.execute_input": "2025-02-20T22:26:33.379333Z",
          "iopub.status.idle": "2025-02-20T22:26:41.132538Z",
          "shell.execute_reply.started": "2025-02-20T22:26:33.379307Z",
          "shell.execute_reply": "2025-02-20T22:26:41.131851Z"
        },
        "id": "U9TW3OqZngIV"
      },
      "outputs": [],
      "execution_count": null
    },
    {
      "cell_type": "code",
      "source": [
        "for i in range(5):\n",
        "    plt.imshow(x_test[i])\n",
        "    plt.title(\"Class:\"+str(y_test[i][0]))\n",
        "    plt.axis(\"off\")\n",
        "    plt.show()"
      ],
      "metadata": {
        "trusted": true,
        "execution": {
          "iopub.status.busy": "2025-02-20T22:26:42.964088Z",
          "iopub.execute_input": "2025-02-20T22:26:42.964428Z",
          "iopub.status.idle": "2025-02-20T22:26:43.436948Z",
          "shell.execute_reply.started": "2025-02-20T22:26:42.964398Z",
          "shell.execute_reply": "2025-02-20T22:26:43.436323Z"
        },
        "id": "Hfaj_X13ngIV"
      },
      "outputs": [],
      "execution_count": null
    },
    {
      "cell_type": "markdown",
      "source": [
        "Veri setinden ornek goruntu ve cikti elde etme"
      ],
      "metadata": {
        "id": "0wKQCPhcngIV"
      }
    },
    {
      "cell_type": "code",
      "source": [
        "plt.imshow(x_train[1])\n",
        "plt.axis(\"off\")\n",
        "print(\"y= \",y_train[1])"
      ],
      "metadata": {
        "trusted": true,
        "execution": {
          "iopub.status.busy": "2025-02-20T22:26:47.075703Z",
          "iopub.execute_input": "2025-02-20T22:26:47.07602Z",
          "iopub.status.idle": "2025-02-20T22:26:47.127596Z",
          "shell.execute_reply.started": "2025-02-20T22:26:47.075985Z",
          "shell.execute_reply": "2025-02-20T22:26:47.126784Z"
        },
        "id": "sBdAFvCNngIW"
      },
      "outputs": [],
      "execution_count": null
    },
    {
      "cell_type": "markdown",
      "source": [
        "Egitim ve test verilerinin birlestirilmesi"
      ],
      "metadata": {
        "id": "D-iCSwYongIW"
      }
    },
    {
      "cell_type": "code",
      "source": [
        "x_data=np.concatenate((x_train,x_test),axis=0)\n",
        "y_data=np.concatenate((y_train,y_test),axis=0)"
      ],
      "metadata": {
        "trusted": true,
        "execution": {
          "iopub.status.busy": "2025-02-20T22:26:50.04593Z",
          "iopub.execute_input": "2025-02-20T22:26:50.046241Z",
          "iopub.status.idle": "2025-02-20T22:26:50.113336Z",
          "shell.execute_reply.started": "2025-02-20T22:26:50.046215Z",
          "shell.execute_reply": "2025-02-20T22:26:50.112445Z"
        },
        "id": "FMiDBoPbngIW"
      },
      "outputs": [],
      "execution_count": null
    },
    {
      "cell_type": "code",
      "source": [
        "len(x_data)"
      ],
      "metadata": {
        "trusted": true,
        "execution": {
          "iopub.status.busy": "2025-02-20T20:50:20.135895Z",
          "iopub.execute_input": "2025-02-20T20:50:20.136131Z",
          "iopub.status.idle": "2025-02-20T20:50:20.141475Z",
          "shell.execute_reply.started": "2025-02-20T20:50:20.13611Z",
          "shell.execute_reply": "2025-02-20T20:50:20.140604Z"
        },
        "id": "to8tbe2-ngIW"
      },
      "outputs": [],
      "execution_count": null
    },
    {
      "cell_type": "code",
      "source": [
        "len(y_data)"
      ],
      "metadata": {
        "trusted": true,
        "execution": {
          "iopub.status.busy": "2025-02-20T20:50:20.142434Z",
          "iopub.execute_input": "2025-02-20T20:50:20.142759Z",
          "iopub.status.idle": "2025-02-20T20:50:20.158964Z",
          "shell.execute_reply.started": "2025-02-20T20:50:20.142726Z",
          "shell.execute_reply": "2025-02-20T20:50:20.158081Z"
        },
        "id": "nif3Jn7sngIW"
      },
      "outputs": [],
      "execution_count": null
    },
    {
      "cell_type": "code",
      "source": [
        "x_data[100]"
      ],
      "metadata": {
        "trusted": true,
        "execution": {
          "iopub.status.busy": "2025-02-20T20:50:20.159868Z",
          "iopub.execute_input": "2025-02-20T20:50:20.160114Z",
          "iopub.status.idle": "2025-02-20T20:50:20.177468Z",
          "shell.execute_reply.started": "2025-02-20T20:50:20.160092Z",
          "shell.execute_reply": "2025-02-20T20:50:20.176558Z"
        },
        "id": "8A6IxuMEngIX"
      },
      "outputs": [],
      "execution_count": null
    },
    {
      "cell_type": "code",
      "source": [
        "y_data[100]"
      ],
      "metadata": {
        "trusted": true,
        "execution": {
          "iopub.status.busy": "2025-02-20T20:50:20.180427Z",
          "iopub.execute_input": "2025-02-20T20:50:20.180719Z",
          "iopub.status.idle": "2025-02-20T20:50:20.194244Z",
          "shell.execute_reply.started": "2025-02-20T20:50:20.180695Z",
          "shell.execute_reply": "2025-02-20T20:50:20.193547Z"
        },
        "id": "CUcjQtb9ngIX"
      },
      "outputs": [],
      "execution_count": null
    },
    {
      "cell_type": "code",
      "source": [
        "x_train,x_test,y_train,y_test=train_test_split(x_data,y_data,test_size=0.2,random_state=42)"
      ],
      "metadata": {
        "trusted": true,
        "execution": {
          "iopub.status.busy": "2025-02-20T22:26:54.551457Z",
          "iopub.execute_input": "2025-02-20T22:26:54.551739Z",
          "iopub.status.idle": "2025-02-20T22:26:54.626937Z",
          "shell.execute_reply.started": "2025-02-20T22:26:54.551718Z",
          "shell.execute_reply": "2025-02-20T22:26:54.626056Z"
        },
        "id": "hvql5QzmngIX"
      },
      "outputs": [],
      "execution_count": null
    },
    {
      "cell_type": "code",
      "source": [
        "len(x_train)"
      ],
      "metadata": {
        "trusted": true,
        "execution": {
          "iopub.status.busy": "2025-02-20T22:26:56.72338Z",
          "iopub.execute_input": "2025-02-20T22:26:56.723679Z",
          "iopub.status.idle": "2025-02-20T22:26:56.728389Z",
          "shell.execute_reply.started": "2025-02-20T22:26:56.723653Z",
          "shell.execute_reply": "2025-02-20T22:26:56.727566Z"
        },
        "id": "-RLLlitkngIX"
      },
      "outputs": [],
      "execution_count": null
    },
    {
      "cell_type": "code",
      "source": [
        "x_train[0]"
      ],
      "metadata": {
        "trusted": true,
        "execution": {
          "iopub.status.busy": "2025-02-20T20:50:20.292204Z",
          "iopub.execute_input": "2025-02-20T20:50:20.292484Z",
          "iopub.status.idle": "2025-02-20T20:50:20.310671Z",
          "shell.execute_reply.started": "2025-02-20T20:50:20.292452Z",
          "shell.execute_reply": "2025-02-20T20:50:20.309675Z"
        },
        "id": "BL8E0_cUngIX"
      },
      "outputs": [],
      "execution_count": null
    },
    {
      "cell_type": "code",
      "source": [
        "y_train[0]"
      ],
      "metadata": {
        "trusted": true,
        "execution": {
          "iopub.status.busy": "2025-02-20T20:50:20.31153Z",
          "iopub.execute_input": "2025-02-20T20:50:20.311742Z",
          "iopub.status.idle": "2025-02-20T20:50:20.32905Z",
          "shell.execute_reply.started": "2025-02-20T20:50:20.311723Z",
          "shell.execute_reply": "2025-02-20T20:50:20.328155Z"
        },
        "id": "yQ90A5IJngIX"
      },
      "outputs": [],
      "execution_count": null
    },
    {
      "cell_type": "code",
      "source": [
        "#verileri 0-1 arasında normalize edilmesi\n",
        "x_train=x_train.astype('float32')/255.0\n",
        "x_test=x_test.astype('float32')/255.0"
      ],
      "metadata": {
        "trusted": true,
        "execution": {
          "iopub.status.busy": "2025-02-20T22:27:00.513845Z",
          "iopub.execute_input": "2025-02-20T22:27:00.514137Z",
          "iopub.status.idle": "2025-02-20T22:27:00.885417Z",
          "shell.execute_reply.started": "2025-02-20T22:27:00.514114Z",
          "shell.execute_reply": "2025-02-20T22:27:00.884491Z"
        },
        "id": "_lvNXqnungIX"
      },
      "outputs": [],
      "execution_count": null
    },
    {
      "cell_type": "code",
      "source": [
        "x_train[100]"
      ],
      "metadata": {
        "trusted": true,
        "execution": {
          "iopub.status.busy": "2025-02-20T20:50:20.740485Z",
          "iopub.execute_input": "2025-02-20T20:50:20.740826Z",
          "iopub.status.idle": "2025-02-20T20:50:20.747625Z",
          "shell.execute_reply.started": "2025-02-20T20:50:20.740779Z",
          "shell.execute_reply": "2025-02-20T20:50:20.746704Z"
        },
        "id": "06n4ht6SngIX"
      },
      "outputs": [],
      "execution_count": null
    },
    {
      "cell_type": "code",
      "source": [
        "#one hot encoding yöntemi:\n",
        "num_classes=10\n",
        "y_train=keras.utils.to_categorical(y_train,num_classes)\n",
        "y_test=keras.utils.to_categorical(y_test,num_classes)"
      ],
      "metadata": {
        "trusted": true,
        "execution": {
          "iopub.status.busy": "2025-02-20T22:27:03.991228Z",
          "iopub.execute_input": "2025-02-20T22:27:03.991591Z",
          "iopub.status.idle": "2025-02-20T22:27:03.999893Z",
          "shell.execute_reply.started": "2025-02-20T22:27:03.991564Z",
          "shell.execute_reply": "2025-02-20T22:27:03.999035Z"
        },
        "id": "1giX3S78ngIY"
      },
      "outputs": [],
      "execution_count": null
    },
    {
      "cell_type": "code",
      "source": [
        "y_train[0]"
      ],
      "metadata": {
        "trusted": true,
        "execution": {
          "iopub.status.busy": "2025-02-20T20:50:21.462377Z",
          "iopub.execute_input": "2025-02-20T20:50:21.462734Z",
          "iopub.status.idle": "2025-02-20T20:50:21.471017Z",
          "shell.execute_reply.started": "2025-02-20T20:50:21.462701Z",
          "shell.execute_reply": "2025-02-20T20:50:21.47003Z"
        },
        "id": "gTZfVgcsngIY"
      },
      "outputs": [],
      "execution_count": null
    },
    {
      "cell_type": "markdown",
      "source": [
        "# ***Convolutional Neural Network (CNN)***\n",
        "\n",
        "* Sequential: Katmanları sırayla eklemek için kullanılır. Yani modelin katmanlarını tek tek üst üste ekle\n",
        "* Conv2D: Görüntüler üzerinde 2D konvolüsyon işlemi yapar. Görselden anlamlı özellikler çıkarmak için kullanılır.\n",
        "* MaxPooling2D: Boyutları küçültür ve önemli özellikleri öne çıkarır. Bu işlem, modelin daha az hesaplama yapmasını sağlar.\n",
        "* Flatten: Çok boyutlu verileri tek bir boyuta çevirir. Fully connected katmanlara geçişte kullanılır.\n",
        "* Dense: Tam bağlantılı sinir ağı katmanıdır, sınıflandırma işlemleri burada yapılır.\n",
        "* Dropout: Overfitting’i önlemek için bazı bağlantıları rastgele kapatır.\n",
        "\n",
        "Gerekli Kütüphaneler:"
      ],
      "metadata": {
        "id": "hTCDR1LXngIY"
      }
    },
    {
      "cell_type": "code",
      "source": [
        "from tensorflow.keras.models import Sequential\n",
        "from tensorflow.keras.layers import Conv2D, MaxPooling2D, Flatten, Dense, Dropout,Input"
      ],
      "metadata": {
        "trusted": true,
        "execution": {
          "iopub.status.busy": "2025-02-20T22:27:07.360097Z",
          "iopub.execute_input": "2025-02-20T22:27:07.36043Z",
          "iopub.status.idle": "2025-02-20T22:27:07.367419Z",
          "shell.execute_reply.started": "2025-02-20T22:27:07.3604Z",
          "shell.execute_reply": "2025-02-20T22:27:07.366674Z"
        },
        "id": "BVkXPsdengIY"
      },
      "outputs": [],
      "execution_count": null
    },
    {
      "cell_type": "code",
      "source": [
        "model=Sequential()"
      ],
      "metadata": {
        "trusted": true,
        "execution": {
          "iopub.status.busy": "2025-02-20T20:58:01.449181Z",
          "iopub.execute_input": "2025-02-20T20:58:01.449529Z",
          "iopub.status.idle": "2025-02-20T20:58:01.454262Z",
          "shell.execute_reply.started": "2025-02-20T20:58:01.449497Z",
          "shell.execute_reply": "2025-02-20T20:58:01.453526Z"
        },
        "id": "l8ELbnQVngIY"
      },
      "outputs": [],
      "execution_count": null
    },
    {
      "cell_type": "markdown",
      "source": [
        "**model.add(Conv2D(32,(3,3),activation=\"relu\",padding=\"same\",input_shape=x_train.shape[1:]))**\n",
        "* padding=\"same\": Çıktının boyutlarını girişle aynı tutar. Yani, kenarlara sıfırlar eklenir (zero-padding) ve çıktı boyutları girişle aynı kalır.\n",
        "* input_shape=x_train.shape[1:]: Giriş boyutunu dinamik olarak belirler. Örneğin, x_train.shape[1:] CIFAR-10 için (32, 32, 3) döndürür. Bu, giriş şeklinin manuel olarak belirtilmesini önler ve daha esnek bir yapı sağlar.\n",
        "* relu: Aktivasyon fonksiyonu, negatif değerleri sıfıra dönüştürür, öğrenmeyi hızlandırır.\n",
        "* 32 adet 3x3 filtre uygular.\n",
        "* Görselden kenar, köşe gibi düşük seviyeli özellikleri çıkarır.\n",
        "\n",
        "**model.add(MaxPooling2D(pool_size=(2,2))) **\n",
        "* 2x2 boyutunda havuzlama yaparak, boyutu yarıya indirir.\n",
        "* Önemli bilgileri kaybetmeden boyut küçültülür."
      ],
      "metadata": {
        "id": "d0z0QR0QngIY"
      }
    },
    {
      "cell_type": "code",
      "source": [
        "model.add(Input(shape=x_train.shape[1:]))  # Giriş katmanı\n",
        "model.add(Conv2D(32,(3,3),activation=\"relu\",padding=\"same\"))\n",
        "model.add(MaxPooling2D(pool_size=(2,2)))\n",
        "model.add(Conv2D(64,(3,3),activation=\"relu\"))\n",
        "model.add(MaxPooling2D(pool_size=(2,2)))\n",
        "model.add(Conv2D(128,(3,3),activation=\"relu\"))\n",
        "model.add(Flatten())\n",
        "model.add(Dense(512,activation=\"relu\"))\n",
        "model.add(Dropout(0.5))\n",
        "model.add(Dense(num_classes,activation=\"softmax\"))"
      ],
      "metadata": {
        "trusted": true,
        "execution": {
          "iopub.status.busy": "2025-02-20T20:58:04.026791Z",
          "iopub.execute_input": "2025-02-20T20:58:04.027128Z",
          "iopub.status.idle": "2025-02-20T20:58:04.105818Z",
          "shell.execute_reply.started": "2025-02-20T20:58:04.027095Z",
          "shell.execute_reply": "2025-02-20T20:58:04.105113Z"
        },
        "id": "r0O34B2KngIY"
      },
      "outputs": [],
      "execution_count": null
    },
    {
      "cell_type": "code",
      "source": [
        "#modelin derlenmesi:\n",
        "model.compile(loss='categorical_crossentropy',optimizer=\"adam\",metrics=[\"accuracy\"])"
      ],
      "metadata": {
        "trusted": true,
        "execution": {
          "iopub.status.busy": "2025-02-20T20:58:06.861228Z",
          "iopub.execute_input": "2025-02-20T20:58:06.861507Z",
          "iopub.status.idle": "2025-02-20T20:58:06.869417Z",
          "shell.execute_reply.started": "2025-02-20T20:58:06.861485Z",
          "shell.execute_reply": "2025-02-20T20:58:06.86868Z"
        },
        "id": "JG9NsmOengIY"
      },
      "outputs": [],
      "execution_count": null
    },
    {
      "cell_type": "code",
      "source": [
        "model.summary()"
      ],
      "metadata": {
        "trusted": true,
        "execution": {
          "iopub.status.busy": "2025-02-20T20:58:09.681927Z",
          "iopub.execute_input": "2025-02-20T20:58:09.682232Z",
          "iopub.status.idle": "2025-02-20T20:58:09.701095Z",
          "shell.execute_reply.started": "2025-02-20T20:58:09.682208Z",
          "shell.execute_reply": "2025-02-20T20:58:09.700383Z"
        },
        "id": "nDsYl7UkngIY"
      },
      "outputs": [],
      "execution_count": null
    },
    {
      "cell_type": "code",
      "source": [
        "#modeli eğitme:\n",
        "batch_size=128\n",
        "epochs=30\n",
        "model.fit(x_train,y_train,batch_size=batch_size,epochs=epochs,validation_data=(x_test,y_test))"
      ],
      "metadata": {
        "trusted": true,
        "execution": {
          "iopub.status.busy": "2025-02-20T20:58:26.20226Z",
          "iopub.execute_input": "2025-02-20T20:58:26.202577Z",
          "iopub.status.idle": "2025-02-20T20:59:37.378207Z",
          "shell.execute_reply.started": "2025-02-20T20:58:26.202549Z",
          "shell.execute_reply": "2025-02-20T20:59:37.377397Z"
        },
        "id": "Or-b5pipngIZ"
      },
      "outputs": [],
      "execution_count": null
    },
    {
      "cell_type": "code",
      "source": [
        "scores=model.evaluate(x_test,y_test,verbose=1)\n",
        "print(\"test loss: \",scores[0])\n",
        "print(\"test accuracy: \",scores[1])"
      ],
      "metadata": {
        "trusted": true,
        "execution": {
          "iopub.status.busy": "2025-02-20T20:59:39.89974Z",
          "iopub.execute_input": "2025-02-20T20:59:39.900109Z",
          "iopub.status.idle": "2025-02-20T20:59:41.365887Z",
          "shell.execute_reply.started": "2025-02-20T20:59:39.900084Z",
          "shell.execute_reply": "2025-02-20T20:59:41.364975Z"
        },
        "id": "7u-YkocpngIZ"
      },
      "outputs": [],
      "execution_count": null
    },
    {
      "cell_type": "code",
      "source": [
        "from sklearn.metrics import classification_report, confusion_matrix\n",
        "import seaborn as sns"
      ],
      "metadata": {
        "trusted": true,
        "execution": {
          "iopub.status.busy": "2025-02-20T22:55:35.87452Z",
          "iopub.execute_input": "2025-02-20T22:55:35.874842Z",
          "iopub.status.idle": "2025-02-20T22:55:36.233668Z",
          "shell.execute_reply.started": "2025-02-20T22:55:35.874816Z",
          "shell.execute_reply": "2025-02-20T22:55:36.232992Z"
        },
        "id": "iyHO8uShngIZ"
      },
      "outputs": [],
      "execution_count": null
    },
    {
      "cell_type": "code",
      "source": [
        "# Model ile tahmin yap\n",
        "y_pred = model.predict(x_test)\n",
        "y_pred_classes = np.argmax(y_pred, axis=1)  # En yüksek olasılığı olan sınıfı seç\n"
      ],
      "metadata": {
        "trusted": true,
        "execution": {
          "iopub.status.busy": "2025-02-20T21:02:39.088483Z",
          "iopub.execute_input": "2025-02-20T21:02:39.089081Z",
          "iopub.status.idle": "2025-02-20T21:02:40.840737Z",
          "shell.execute_reply.started": "2025-02-20T21:02:39.089049Z",
          "shell.execute_reply": "2025-02-20T21:02:40.8399Z"
        },
        "id": "pjptHzDsngIZ"
      },
      "outputs": [],
      "execution_count": null
    },
    {
      "cell_type": "code",
      "source": [
        "# y_test'i düz etiket formatına dönüştür (eğer one-hot encoded ise)\n",
        "if len(y_test.shape) > 1:\n",
        "    y_test_classes = np.argmax(y_test, axis=1)\n",
        "else:\n",
        "    y_test_classes = y_test\n",
        "\n"
      ],
      "metadata": {
        "trusted": true,
        "execution": {
          "iopub.status.busy": "2025-02-20T21:03:47.708618Z",
          "iopub.execute_input": "2025-02-20T21:03:47.709007Z",
          "iopub.status.idle": "2025-02-20T21:03:47.713987Z",
          "shell.execute_reply.started": "2025-02-20T21:03:47.708975Z",
          "shell.execute_reply": "2025-02-20T21:03:47.712775Z"
        },
        "id": "mh6R7hCGngIZ"
      },
      "outputs": [],
      "execution_count": null
    },
    {
      "cell_type": "code",
      "source": [
        "# Sınıf bazında metrikleri hesapla\n",
        "print(\"Classification Report:\\n\")\n",
        "print(classification_report(y_test_classes, y_pred_classes, target_names=[\n",
        "    'airplane', 'automobile', 'bird', 'cat', 'deer',\n",
        "    'dog', 'frog', 'horse', 'ship', 'truck']))\n"
      ],
      "metadata": {
        "trusted": true,
        "execution": {
          "iopub.status.busy": "2025-02-20T21:03:56.517327Z",
          "iopub.execute_input": "2025-02-20T21:03:56.517643Z",
          "iopub.status.idle": "2025-02-20T21:03:56.53701Z",
          "shell.execute_reply.started": "2025-02-20T21:03:56.517617Z",
          "shell.execute_reply": "2025-02-20T21:03:56.536311Z"
        },
        "id": "jZYsGN5engIZ"
      },
      "outputs": [],
      "execution_count": null
    },
    {
      "cell_type": "code",
      "source": [
        "# Confusion Matrix hesapla\n",
        "cm = confusion_matrix(y_test_classes, y_pred_classes)\n",
        "\n",
        "# Görselleştirme\n",
        "plt.figure(figsize=(10, 8))\n",
        "sns.heatmap(cm, annot=True, fmt='d', cmap='Blues', xticklabels=[\n",
        "    'airplane', 'automobile', 'bird', 'cat', 'deer',\n",
        "    'dog', 'frog', 'horse', 'ship', 'truck'],\n",
        "    yticklabels=[\n",
        "    'airplane', 'automobile', 'bird', 'cat', 'deer',\n",
        "    'dog', 'frog', 'horse', 'ship', 'truck'])\n",
        "plt.xlabel('Tahmin Edilen')\n",
        "plt.ylabel('Gerçek')\n",
        "plt.title('Confusion Matrix')\n",
        "plt.show()\n"
      ],
      "metadata": {
        "trusted": true,
        "execution": {
          "iopub.status.busy": "2025-02-20T21:04:16.166629Z",
          "iopub.execute_input": "2025-02-20T21:04:16.166929Z",
          "iopub.status.idle": "2025-02-20T21:04:16.652218Z",
          "shell.execute_reply.started": "2025-02-20T21:04:16.166905Z",
          "shell.execute_reply": "2025-02-20T21:04:16.651222Z"
        },
        "id": "zz_MJxuOngIZ"
      },
      "outputs": [],
      "execution_count": null
    },
    {
      "cell_type": "markdown",
      "source": [
        "# ***Convolutional Neural Network 2 (CNN)***"
      ],
      "metadata": {
        "id": "Zs923tmlngId"
      }
    },
    {
      "cell_type": "code",
      "source": [
        "modelT=Sequential()"
      ],
      "metadata": {
        "trusted": true,
        "execution": {
          "iopub.status.busy": "2025-02-20T21:24:15.00091Z",
          "iopub.execute_input": "2025-02-20T21:24:15.00126Z",
          "iopub.status.idle": "2025-02-20T21:24:15.006345Z",
          "shell.execute_reply.started": "2025-02-20T21:24:15.001232Z",
          "shell.execute_reply": "2025-02-20T21:24:15.005232Z"
        },
        "id": "ayEZXocDngId"
      },
      "outputs": [],
      "execution_count": null
    },
    {
      "cell_type": "code",
      "source": [
        "modelT.add(Input(shape=x_train.shape[1:]))  # Giriş katmanı\n",
        "modelT.add(Conv2D(32,(3,3),activation=\"relu\",padding=\"same\"))\n",
        "modelT.add(MaxPooling2D(pool_size=(2,2)))\n",
        "modelT.add(Conv2D(64,(3,3),activation=\"relu\"))\n",
        "modelT.add(MaxPooling2D(pool_size=(2,2)))\n",
        "modelT.add(Conv2D(128,(3,3),activation=\"relu\"))\n",
        "modelT.add(Conv2D(256,(3,3),activation=\"relu\"))\n",
        "modelT.add(Flatten())\n",
        "modelT.add(Dense(512,activation=\"relu\"))\n",
        "modelT.add(Dropout(0.5))\n",
        "modelT.add(Dense(num_classes,activation=\"softmax\"))"
      ],
      "metadata": {
        "trusted": true,
        "execution": {
          "iopub.status.busy": "2025-02-20T21:24:16.87741Z",
          "iopub.execute_input": "2025-02-20T21:24:16.877737Z",
          "iopub.status.idle": "2025-02-20T21:24:17.008242Z",
          "shell.execute_reply.started": "2025-02-20T21:24:16.87771Z",
          "shell.execute_reply": "2025-02-20T21:24:17.007484Z"
        },
        "id": "M4ZMOHt5ngId"
      },
      "outputs": [],
      "execution_count": null
    },
    {
      "cell_type": "code",
      "source": [
        "from tensorflow.keras.optimizers import Adam"
      ],
      "metadata": {
        "trusted": true,
        "execution": {
          "iopub.status.busy": "2025-02-20T21:23:36.166538Z",
          "iopub.execute_input": "2025-02-20T21:23:36.166985Z",
          "iopub.status.idle": "2025-02-20T21:23:36.185076Z",
          "shell.execute_reply.started": "2025-02-20T21:23:36.166949Z",
          "shell.execute_reply": "2025-02-20T21:23:36.184198Z"
        },
        "id": "t_WQZDnUngId"
      },
      "outputs": [],
      "execution_count": null
    },
    {
      "cell_type": "code",
      "source": [
        "#modelin derlenmesi:\n",
        "modelT.compile(loss='categorical_crossentropy',optimizer=\"adam\",metrics=[\"accuracy\"])\n"
      ],
      "metadata": {
        "trusted": true,
        "execution": {
          "iopub.status.busy": "2025-02-20T21:24:21.081153Z",
          "iopub.execute_input": "2025-02-20T21:24:21.081447Z",
          "iopub.status.idle": "2025-02-20T21:24:21.089507Z",
          "shell.execute_reply.started": "2025-02-20T21:24:21.081423Z",
          "shell.execute_reply": "2025-02-20T21:24:21.088701Z"
        },
        "id": "k4wVvhGongId"
      },
      "outputs": [],
      "execution_count": null
    },
    {
      "cell_type": "code",
      "source": [
        "from tensorflow.keras.preprocessing.image import ImageDataGenerator"
      ],
      "metadata": {
        "trusted": true,
        "execution": {
          "iopub.status.busy": "2025-02-20T21:24:23.044137Z",
          "iopub.execute_input": "2025-02-20T21:24:23.044471Z",
          "iopub.status.idle": "2025-02-20T21:24:23.048403Z",
          "shell.execute_reply.started": "2025-02-20T21:24:23.044442Z",
          "shell.execute_reply": "2025-02-20T21:24:23.047554Z"
        },
        "id": "vSaPks8LngIe"
      },
      "outputs": [],
      "execution_count": null
    },
    {
      "cell_type": "code",
      "source": [
        "#  Veri Artırma (Augmentation)\n",
        "datagen = ImageDataGenerator(\n",
        "    rotation_range=15,\n",
        "    width_shift_range=0.1,\n",
        "    height_shift_range=0.1,\n",
        "    horizontal_flip=True\n",
        ")\n",
        "datagen.fit(x_train)"
      ],
      "metadata": {
        "trusted": true,
        "execution": {
          "iopub.status.busy": "2025-02-20T21:24:25.078054Z",
          "iopub.execute_input": "2025-02-20T21:24:25.078367Z",
          "iopub.status.idle": "2025-02-20T21:24:25.288337Z",
          "shell.execute_reply.started": "2025-02-20T21:24:25.078342Z",
          "shell.execute_reply": "2025-02-20T21:24:25.287439Z"
        },
        "id": "_gY_tIVrngIe"
      },
      "outputs": [],
      "execution_count": null
    },
    {
      "cell_type": "markdown",
      "source": [
        "🔍 Batch Size Nedir ve Ne İşe Yarar?\n",
        "Batch size, her eğitim adımında (iteration) modele kaç örnek sunulacağını belirler. Yani, model ağırlıklarını güncellemeden önce kaç örnekle öğrenim yapacağını tanımlar.\n",
        "\n",
        "🎯 Ne Zaman Hangi Batch Size Kullanılır?\n",
        "Küçük Veri Setleri: Küçük batch size (16-32) genellikle daha iyi sonuç verir.\n",
        "Orta Büyüklükteki Veri Setleri: (64-128) çoğu zaman en iyi dengeyi sağlar.\n",
        "Büyük Veri Setleri ve Güçlü GPU: Büyük batch size (256-512) daha hızlı eğitim sağlar."
      ],
      "metadata": {
        "id": "uPxXpuFwngIe"
      }
    },
    {
      "cell_type": "code",
      "source": [
        "#modeli eğitme:\n",
        "batch_size=128\n",
        "epochs=20\n",
        "modelT.fit(x_train,y_train,batch_size=batch_size,epochs=epochs,validation_data=(x_test,y_test))"
      ],
      "metadata": {
        "trusted": true,
        "execution": {
          "iopub.status.busy": "2025-02-20T21:24:33.050907Z",
          "iopub.execute_input": "2025-02-20T21:24:33.051209Z",
          "iopub.status.idle": "2025-02-20T21:25:30.012853Z",
          "shell.execute_reply.started": "2025-02-20T21:24:33.051185Z",
          "shell.execute_reply": "2025-02-20T21:25:30.011717Z"
        },
        "id": "I6U3DYRtngIe"
      },
      "outputs": [],
      "execution_count": null
    },
    {
      "cell_type": "code",
      "source": [
        "scores=modelT.evaluate(x_test,y_test,verbose=1)\n",
        "print(\"test loss: \",scores[0])\n",
        "print(\"test accuracy: \",scores[1])"
      ],
      "metadata": {
        "trusted": true,
        "execution": {
          "iopub.status.busy": "2025-02-20T22:09:54.312895Z",
          "iopub.execute_input": "2025-02-20T22:09:54.313222Z",
          "iopub.status.idle": "2025-02-20T22:09:56.165304Z",
          "shell.execute_reply.started": "2025-02-20T22:09:54.313193Z",
          "shell.execute_reply": "2025-02-20T22:09:56.164584Z"
        },
        "id": "_MZXRqUWngIe"
      },
      "outputs": [],
      "execution_count": null
    },
    {
      "cell_type": "code",
      "source": [
        "# Model ile tahmin yap\n",
        "y_predx = modelT.predict(x_test)\n",
        "y_pred_class = np.argmax(y_predx, axis=1)  # En yüksek olasılığı olan sınıfı seç"
      ],
      "metadata": {
        "trusted": true,
        "execution": {
          "iopub.status.busy": "2025-02-20T21:29:29.962274Z",
          "iopub.execute_input": "2025-02-20T21:29:29.96257Z",
          "iopub.status.idle": "2025-02-20T21:29:31.280757Z",
          "shell.execute_reply.started": "2025-02-20T21:29:29.962547Z",
          "shell.execute_reply": "2025-02-20T21:29:31.279545Z"
        },
        "id": "gsfe81VzngIe"
      },
      "outputs": [],
      "execution_count": null
    },
    {
      "cell_type": "code",
      "source": [
        "# y_test'i düz etiket formatına dönüştür (eğer one-hot encoded ise)\n",
        "if len(y_test.shape) > 1:\n",
        "    y_test_class = np.argmax(y_test, axis=1)\n",
        "else:\n",
        "    y_test_class = y_test\n",
        "\n"
      ],
      "metadata": {
        "trusted": true,
        "execution": {
          "iopub.status.busy": "2025-02-20T21:29:43.520241Z",
          "iopub.execute_input": "2025-02-20T21:29:43.520562Z",
          "iopub.status.idle": "2025-02-20T21:29:43.525097Z",
          "shell.execute_reply.started": "2025-02-20T21:29:43.520532Z",
          "shell.execute_reply": "2025-02-20T21:29:43.524132Z"
        },
        "id": "lZ9rOIpmngIe"
      },
      "outputs": [],
      "execution_count": null
    },
    {
      "cell_type": "code",
      "source": [
        "# Sınıf bazında metrikleri hesapla\n",
        "print(\"Classification Report:\\n\")\n",
        "print(classification_report(y_test_class, y_pred_class, target_names=[\n",
        "    'airplane', 'automobile', 'bird', 'cat', 'deer',\n",
        "    'dog', 'frog', 'horse', 'ship', 'truck']))\n"
      ],
      "metadata": {
        "trusted": true,
        "execution": {
          "iopub.status.busy": "2025-02-20T21:29:46.365273Z",
          "iopub.execute_input": "2025-02-20T21:29:46.365611Z",
          "iopub.status.idle": "2025-02-20T21:29:46.388694Z",
          "shell.execute_reply.started": "2025-02-20T21:29:46.365582Z",
          "shell.execute_reply": "2025-02-20T21:29:46.387837Z"
        },
        "id": "KvHgaPIvngIe"
      },
      "outputs": [],
      "execution_count": null
    },
    {
      "cell_type": "code",
      "source": [
        "# Confusion Matrix hesapla\n",
        "cmm = confusion_matrix(y_test_class, y_pred_class)\n",
        "\n",
        "# Görselleştirme\n",
        "plt.figure(figsize=(10, 8))\n",
        "sns.heatmap(cmm, annot=True, fmt='d', cmap='Blues', xticklabels=[\n",
        "    'airplane', 'automobile', 'bird', 'cat', 'deer',\n",
        "    'dog', 'frog', 'horse', 'ship', 'truck'],\n",
        "    yticklabels=[\n",
        "    'airplane', 'automobile', 'bird', 'cat', 'deer',\n",
        "    'dog', 'frog', 'horse', 'ship', 'truck'])\n",
        "plt.xlabel('Tahmin Edilen')\n",
        "plt.ylabel('Gerçek')\n",
        "plt.title('Confusion Matrix')\n",
        "plt.show()\n"
      ],
      "metadata": {
        "trusted": true,
        "execution": {
          "iopub.status.busy": "2025-02-20T21:30:56.572848Z",
          "iopub.execute_input": "2025-02-20T21:30:56.573217Z",
          "iopub.status.idle": "2025-02-20T21:30:57.103573Z",
          "shell.execute_reply.started": "2025-02-20T21:30:56.573191Z",
          "shell.execute_reply": "2025-02-20T21:30:57.10265Z"
        },
        "id": "b_3J9_vmngIe"
      },
      "outputs": [],
      "execution_count": null
    },
    {
      "cell_type": "markdown",
      "source": [
        "# CNN model 3\n"
      ],
      "metadata": {
        "id": "BAsyBeqkngIf"
      }
    },
    {
      "cell_type": "code",
      "source": [
        "modelx=Sequential()"
      ],
      "metadata": {
        "trusted": true,
        "execution": {
          "iopub.status.busy": "2025-02-20T22:27:20.940442Z",
          "iopub.execute_input": "2025-02-20T22:27:20.940731Z",
          "iopub.status.idle": "2025-02-20T22:27:20.946467Z",
          "shell.execute_reply.started": "2025-02-20T22:27:20.940708Z",
          "shell.execute_reply": "2025-02-20T22:27:20.94558Z"
        },
        "id": "6U3jJXSUngIf"
      },
      "outputs": [],
      "execution_count": null
    },
    {
      "cell_type": "code",
      "source": [
        "from tensorflow.keras.layers import BatchNormalization"
      ],
      "metadata": {
        "trusted": true,
        "execution": {
          "iopub.status.busy": "2025-02-20T22:27:23.057873Z",
          "iopub.execute_input": "2025-02-20T22:27:23.058189Z",
          "iopub.status.idle": "2025-02-20T22:27:23.062136Z",
          "shell.execute_reply.started": "2025-02-20T22:27:23.058161Z",
          "shell.execute_reply": "2025-02-20T22:27:23.061102Z"
        },
        "id": "Yq1T_g7UngIf"
      },
      "outputs": [],
      "execution_count": null
    },
    {
      "cell_type": "code",
      "source": [
        "modelx.add(Input(shape=x_train.shape[1:]))  # Giriş katmanı\n",
        "modelx.add(Conv2D(32,(3,3),activation=\"relu\",padding=\"same\"))\n",
        "modelx.add(BatchNormalization())\n",
        "modelx.add(MaxPooling2D(pool_size=(2,2)))\n",
        "modelx.add(Conv2D(64,(3,3),activation=\"relu\"))\n",
        "modelx.add(Dropout(0.3))  # Conv2D katmanlarından sonra\n",
        "modelx.add(BatchNormalization())\n",
        "modelx.add(MaxPooling2D(pool_size=(2,2)))\n",
        "modelx.add(Conv2D(128,(3,3),activation=\"relu\"))\n",
        "modelx.add(Dropout(0.3))  # Conv2D katmanlarından sonra\n",
        "modelx.add(BatchNormalization())\n",
        "modelx.add(Conv2D(256,(3,3),activation=\"relu\"))\n",
        "modelx.add(BatchNormalization())\n",
        "modelx.add(MaxPooling2D(pool_size=(2,2)))\n",
        "modelx.add(Conv2D(512, (3, 3), activation=\"relu\", padding=\"same\"))\n",
        "modelx.add(Dropout(0.3))  # Conv2D katmanlarından sonra\n",
        "modelx.add(BatchNormalization())\n",
        "modelx.add(Flatten())\n",
        "modelx.add(Dropout(0.5))  # Dense katmandan önce\n",
        "modelx.add(Dense(512,activation=\"relu\"))\n",
        "modelx.add(Dropout(0.5))\n",
        "modelx.add(Dense(num_classes,activation=\"softmax\"))"
      ],
      "metadata": {
        "trusted": true,
        "execution": {
          "iopub.status.busy": "2025-02-20T22:27:25.013586Z",
          "iopub.execute_input": "2025-02-20T22:27:25.013918Z",
          "iopub.status.idle": "2025-02-20T22:27:27.902575Z",
          "shell.execute_reply.started": "2025-02-20T22:27:25.013888Z",
          "shell.execute_reply": "2025-02-20T22:27:27.901872Z"
        },
        "id": "nu1PagarngIf"
      },
      "outputs": [],
      "execution_count": null
    },
    {
      "cell_type": "code",
      "source": [
        "from tensorflow.keras.callbacks import ReduceLROnPlateau\n",
        "from tensorflow.keras.optimizers import Adam\n",
        "\n",
        "optimizer = Adam(learning_rate=0.001)\n",
        "modelx.compile(optimizer=optimizer, loss=\"categorical_crossentropy\", metrics=[\"accuracy\"])"
      ],
      "metadata": {
        "trusted": true,
        "execution": {
          "iopub.status.busy": "2025-02-20T22:27:45.032974Z",
          "iopub.execute_input": "2025-02-20T22:27:45.033321Z",
          "iopub.status.idle": "2025-02-20T22:27:45.049049Z",
          "shell.execute_reply.started": "2025-02-20T22:27:45.033296Z",
          "shell.execute_reply": "2025-02-20T22:27:45.048407Z"
        },
        "id": "D8nRZ0YGngIf"
      },
      "outputs": [],
      "execution_count": null
    },
    {
      "cell_type": "markdown",
      "source": [
        "modelx.compile(loss='categorical_crossentropy',optimizer=\"adam\",metrics=[\"accuracy\"])"
      ],
      "metadata": {
        "id": "lDo7vZ7fngIf"
      }
    },
    {
      "cell_type": "code",
      "source": [
        "from tensorflow.keras.preprocessing.image import ImageDataGenerator"
      ],
      "metadata": {
        "trusted": true,
        "execution": {
          "iopub.status.busy": "2025-02-20T22:27:48.164213Z",
          "iopub.execute_input": "2025-02-20T22:27:48.164528Z",
          "iopub.status.idle": "2025-02-20T22:27:48.169121Z",
          "shell.execute_reply.started": "2025-02-20T22:27:48.164506Z",
          "shell.execute_reply": "2025-02-20T22:27:48.168513Z"
        },
        "id": "h6yw-eqdngIf"
      },
      "outputs": [],
      "execution_count": null
    },
    {
      "cell_type": "markdown",
      "source": [
        "datage = ImageDataGenerator(\n",
        "    rotation_range=15,\n",
        "    width_shift_range=0.1,\n",
        "    height_shift_range=0.1,\n",
        "    horizontal_flip=True\n",
        ")\n",
        "\n"
      ],
      "metadata": {
        "id": "pNXvllj8ngIg"
      }
    },
    {
      "cell_type": "code",
      "source": [
        "#  Veri Artırma (Augmentation)\n",
        "\n",
        "datag = ImageDataGenerator(\n",
        "    rotation_range=30,\n",
        "    width_shift_range=0.3,\n",
        "    height_shift_range=0.3,\n",
        "    shear_range=0.2,\n",
        "    zoom_range=0.2,\n",
        "    horizontal_flip=True,\n",
        "    fill_mode='nearest'\n",
        ")\n",
        "datag.fit(x_train)"
      ],
      "metadata": {
        "trusted": true,
        "execution": {
          "iopub.status.busy": "2025-02-20T22:27:52.733078Z",
          "iopub.execute_input": "2025-02-20T22:27:52.733379Z",
          "iopub.status.idle": "2025-02-20T22:27:52.935699Z",
          "shell.execute_reply.started": "2025-02-20T22:27:52.733355Z",
          "shell.execute_reply": "2025-02-20T22:27:52.935033Z"
        },
        "id": "RpA2BAbJngIg"
      },
      "outputs": [],
      "execution_count": null
    },
    {
      "cell_type": "code",
      "source": [
        "#modeli eğitme:\n",
        "batch_size=128\n",
        "epochs=50\n",
        "modelx.fit(x_train,y_train,batch_size=batch_size,epochs=epochs,validation_data=(x_test,y_test))"
      ],
      "metadata": {
        "trusted": true,
        "execution": {
          "iopub.status.busy": "2025-02-20T22:28:11.477535Z",
          "iopub.execute_input": "2025-02-20T22:28:11.477851Z",
          "iopub.status.idle": "2025-02-20T22:30:49.5398Z",
          "shell.execute_reply.started": "2025-02-20T22:28:11.477822Z",
          "shell.execute_reply": "2025-02-20T22:30:49.539047Z"
        },
        "id": "GPREph-DngIg"
      },
      "outputs": [],
      "execution_count": null
    },
    {
      "cell_type": "code",
      "source": [
        "scores=modelx.evaluate(x_test,y_test,verbose=1)\n",
        "print(\"test loss: \",scores[0])\n",
        "print(\"test accuracy: \",scores[1])"
      ],
      "metadata": {
        "trusted": true,
        "execution": {
          "iopub.status.busy": "2025-02-20T22:31:00.449578Z",
          "iopub.execute_input": "2025-02-20T22:31:00.449873Z",
          "iopub.status.idle": "2025-02-20T22:31:02.353076Z",
          "shell.execute_reply.started": "2025-02-20T22:31:00.449849Z",
          "shell.execute_reply": "2025-02-20T22:31:02.352426Z"
        },
        "id": "DKwdA-O8ngIg"
      },
      "outputs": [],
      "execution_count": null
    },
    {
      "cell_type": "code",
      "source": [
        "# Model ile tahmin yap\n",
        "y_predxi = modelx.predict(x_test)\n",
        "y_pred_classx = np.argmax(y_predxi, axis=1)  # En yüksek olasılığı olan sınıfı seç"
      ],
      "metadata": {
        "trusted": true,
        "execution": {
          "iopub.status.busy": "2025-02-20T22:53:32.275479Z",
          "iopub.execute_input": "2025-02-20T22:53:32.275867Z",
          "iopub.status.idle": "2025-02-20T22:53:33.948641Z",
          "shell.execute_reply.started": "2025-02-20T22:53:32.275843Z",
          "shell.execute_reply": "2025-02-20T22:53:33.947903Z"
        },
        "id": "xcOr-JPhngIg"
      },
      "outputs": [],
      "execution_count": null
    },
    {
      "cell_type": "code",
      "source": [
        "# y_test'i düz etiket formatına dönüştür (eğer one-hot encoded ise)\n",
        "if len(y_test.shape) > 1:\n",
        "    y_test_clas = np.argmax(y_test, axis=1)\n",
        "else:\n",
        "    y_test_clas = y_test\n",
        "\n"
      ],
      "metadata": {
        "trusted": true,
        "execution": {
          "iopub.status.busy": "2025-02-20T22:54:31.733986Z",
          "iopub.execute_input": "2025-02-20T22:54:31.734414Z",
          "iopub.status.idle": "2025-02-20T22:54:31.73893Z",
          "shell.execute_reply.started": "2025-02-20T22:54:31.734372Z",
          "shell.execute_reply": "2025-02-20T22:54:31.738152Z"
        },
        "id": "5LPFukevngIg"
      },
      "outputs": [],
      "execution_count": null
    },
    {
      "cell_type": "code",
      "source": [
        "# Sınıf bazında metrikleri hesapla\n",
        "print(\"Classification Report:\\n\")\n",
        "print(classification_report(y_test_clas, y_pred_classx, target_names=[\n",
        "    'airplane', 'automobile', 'bird', 'cat', 'deer',\n",
        "    'dog', 'frog', 'horse', 'ship', 'truck']))\n"
      ],
      "metadata": {
        "trusted": true,
        "execution": {
          "iopub.status.busy": "2025-02-20T22:55:56.664959Z",
          "iopub.execute_input": "2025-02-20T22:55:56.66524Z",
          "iopub.status.idle": "2025-02-20T22:55:56.68542Z",
          "shell.execute_reply.started": "2025-02-20T22:55:56.665218Z",
          "shell.execute_reply": "2025-02-20T22:55:56.684625Z"
        },
        "id": "LRP5mNDEngIg"
      },
      "outputs": [],
      "execution_count": null
    },
    {
      "cell_type": "code",
      "source": [
        "# Confusion Matrix hesapla\n",
        "cmn = confusion_matrix(y_test_clas, y_pred_classx)\n",
        "\n",
        "# Görselleştirme\n",
        "plt.figure(figsize=(10, 8))\n",
        "sns.heatmap(cmn, annot=True, fmt='d', cmap='Greens', xticklabels=[\n",
        "    'airplane', 'automobile', 'bird', 'cat', 'deer',\n",
        "    'dog', 'frog', 'horse', 'ship', 'truck'],\n",
        "    yticklabels=[\n",
        "    'airplane', 'automobile', 'bird', 'cat', 'deer',\n",
        "    'dog', 'frog', 'horse', 'ship', 'truck'])\n",
        "plt.xlabel('Tahmin Edilen')\n",
        "plt.ylabel('Gerçek')\n",
        "plt.title('Confusion Matrix')\n",
        "plt.show()\n"
      ],
      "metadata": {
        "trusted": true,
        "execution": {
          "iopub.status.busy": "2025-02-20T23:00:09.670805Z",
          "iopub.execute_input": "2025-02-20T23:00:09.671143Z",
          "iopub.status.idle": "2025-02-20T23:00:10.327672Z",
          "shell.execute_reply.started": "2025-02-20T23:00:09.671111Z",
          "shell.execute_reply": "2025-02-20T23:00:10.326817Z"
        },
        "id": "00lK5D2cngIg"
      },
      "outputs": [],
      "execution_count": null
    },
    {
      "cell_type": "markdown",
      "source": [
        "# RESNET50\n",
        "ResNet50, derin sinir ağlarında katman sayısının artmasıyla ortaya çıkan vanishing gradient sorununu çözmek için geliştirilmiş bir arttırılmış (residual) ağ yapısıdır. Keras'ta hazır olarak gelir ve transfer learning (aktarım öğrenmesi) ile çok güçlü sonuçlar verir."
      ],
      "metadata": {
        "id": "YlpV67HdngIh"
      }
    },
    {
      "cell_type": "code",
      "source": [],
      "metadata": {
        "trusted": true,
        "id": "SxQG-xuPngIh"
      },
      "outputs": [],
      "execution_count": null
    }
  ]
}